{
 "cells": [
  {
   "cell_type": "code",
   "execution_count": null,
   "metadata": {
    "vscode": {
     "languageId": "plaintext"
    }
   },
   "outputs": [],
   "source": [
    "import platform\n",
    "import tensorflow as tf\n",
    "import keras"
   ]
  },
  {
   "cell_type": "code",
   "execution_count": null,
   "metadata": {
    "vscode": {
     "languageId": "plaintext"
    }
   },
   "outputs": [],
   "source": [
    "print(\"🔥 Checking TensorFlow & Keras versions...\\n\")\n",
    "print(f\"🖥️ OS: {platform.system()} {platform.release()} ({platform.architecture()[0]})\")\n",
    "\n",
    "print(f\"🐍 Python Version: {platform.python_version()}\")\n",
    "\n",
    "try:\n",
    "    print(f\"\\n🟢 TensorFlow Version: {tf.__version__}\")\n",
    "    print(f\"📦 Keras Version: {keras.__version__}\")\n",
    "\n",
    "    gpu_devices = tf.config.list_physical_devices('GPU')\n",
    "    print(f\"🔧 CUDA Available (TensorFlow): {len(gpu_devices) > 0}\")\n",
    "\n",
    "    if gpu_devices:\n",
    "        print(f\"🖥️ GPU Devices: {[device.name for device in gpu_devices]}\")\n",
    "except Exception as e:\n",
    "    print(f\"⚠️ TensorFlow Error: {e}\")"
   ]
  }
 ],
 "metadata": {
  "language_info": {
   "name": "python"
  }
 },
 "nbformat": 4,
 "nbformat_minor": 2
}
